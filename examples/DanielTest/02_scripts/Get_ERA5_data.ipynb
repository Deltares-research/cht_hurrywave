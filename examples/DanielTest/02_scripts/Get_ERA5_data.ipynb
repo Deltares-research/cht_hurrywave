{
 "cells": [
  {
   "cell_type": "code",
   "execution_count": null,
   "id": "f4a16af9",
   "metadata": {},
   "outputs": [],
   "source": [
    "#%% Import packages\n",
    "import numpy as np\n",
    "import os\n",
    "import cdsapi\n",
    "import sys\n",
    "import xarray as xr\n",
    "# https://cds.climate.copernicus.eu/cdsapp#!/dataset/reanalysis-era5-complete?tab=form alternative to the old ecmwf\n",
    "#%% Specify file name and beginning/end year\n",
    "area = [65, -12, 48, 10] # DCSM area in the North Sea (degrees): North, West, South, East\n",
    "area_name = 'NorthSea' # name of the area (for naming)\n",
    "yi = 2024 # year start of the data\n",
    "ye = 2024 # year end of the data\n",
    "mi = 1 # month start of the data\n",
    "me = 12 # month end of the data\n",
    "di = 1 # day start of the data\n",
    "de = 31 # day end of the data\n",
    "hi = 0 # hour start of the data\n",
    "he = 23 # hour end of the data\n",
    "\n",
    "#%% Specify variables to download (find them in the ERA5 documentation or the CDS API web interface)\n",
    "variables = [\"10m_u_component_of_wind\", \"10m_v_component_of_wind\"]\n",
    "\n",
    "\n",
    "# name is here the name you want to give\n",
    "# main_path_download is the path where you want to download the data (make sure it is up the tree to avoid too long filepaths)\n",
    "# final_data_path is the path where you want to save the final data\n",
    "\n",
    "name = 'NorthSea2024' # name of the data (for naming)\n",
    "main_path_download = r'C:\\Users\\User\\OneDrive\\Documents\\Python\\PYTHON_MSC_CE\\Year_2\\Python_Thesis\\ERA5_data_downloaded' # path to the download (make sure it is up the tree to avoid long filepaths)\n",
    "final_data_path = r'C:\\Users\\User\\OneDrive\\Documents\\Python\\PYTHON_MSC_CE\\Year_2\\Python_Thesis\\cht_hurrywave\\examples\\DanielTest\\01_data\\ERA_5_data' # path to the final data\n",
    "\n",
    "# Create outpath if it doesnt exist\n",
    "outpath = os.path.join(main_path_download, name)\n",
    "os.makedirs(outpath, exist_ok=True)\n",
    "\n",
    "# Create final_path if it doesn't exist\n",
    "final_path = os.path.join(final_data_path, name)\n",
    "os.makedirs(final_path, exist_ok=True)\n",
    "\n",
    "res = 0.25 # resolution in degrees\n",
    "years = ['%4d'%(ii) for ii in np.arange(yi,ye+1)]\n",
    "months = ['%02d'%(ii) for ii in np.arange(mi,me+1)]\n",
    "days = ['%02d'%(ii) for ii in np.arange(di,de+1)]\n",
    "hours = ['%02d:00'%(ii) for ii in np.arange(hi,he+1)]\n",
    "    \n",
    "\n"
   ]
  },
  {
   "cell_type": "markdown",
   "id": "927b9a4a",
   "metadata": {},
   "source": [
    "# Download the files"
   ]
  },
  {
   "cell_type": "code",
   "execution_count": 20,
   "id": "da6d868a",
   "metadata": {},
   "outputs": [
    {
     "name": "stderr",
     "output_type": "stream",
     "text": [
      "2025-05-15 16:11:14,269 INFO [2024-09-26T00:00:00] Watch our [Forum](https://forum.ecmwf.int/) for Announcements, news and other discussed topics.\n",
      "2025-05-15 16:11:14,269 WARNING [2024-06-16T00:00:00] CDS API syntax is changed and some keys or parameter names may have also changed. To avoid requests failing, please use the \"Show API request code\" tool on the dataset Download Form to check you are using the correct syntax for your API request.\n"
     ]
    },
    {
     "name": "stdout",
     "output_type": "stream",
     "text": [
      "NorthSea-10m_u_component_of_wind, 2023-2023\n",
      "NorthSea_10m_u_component_of_wind_2023.nc\n"
     ]
    },
    {
     "name": "stderr",
     "output_type": "stream",
     "text": [
      "2025-05-15 16:11:14,640 INFO Request ID is dc1d063d-3de0-4f58-b1cc-37f919e99857\n",
      "2025-05-15 16:11:14,710 INFO status has been updated to accepted\n",
      "2025-05-15 16:11:23,133 INFO status has been updated to running\n",
      "2025-05-15 16:11:28,274 INFO status has been updated to successful\n"
     ]
    },
    {
     "data": {
      "application/vnd.jupyter.widget-view+json": {
       "model_id": "6ec4bf2b84104134a62016d262f8140f",
       "version_major": 2,
       "version_minor": 0
      },
      "text/plain": [
       "7f8e7db5cc8fd13341adb68e5c39e083.nc:   0%|          | 0.00/1.52M [00:00<?, ?B/s]"
      ]
     },
     "metadata": {},
     "output_type": "display_data"
    },
    {
     "name": "stdout",
     "output_type": "stream",
     "text": [
      "NorthSea-10m_v_component_of_wind, 2023-2023\n",
      "NorthSea_10m_v_component_of_wind_2023.nc\n"
     ]
    },
    {
     "name": "stderr",
     "output_type": "stream",
     "text": [
      "2025-05-15 16:11:30,207 INFO Request ID is b90f06b9-0bc1-4938-aab2-ce2f0bf112bb\n",
      "2025-05-15 16:11:30,307 INFO status has been updated to accepted\n",
      "2025-05-15 16:11:38,923 INFO status has been updated to running\n",
      "2025-05-15 16:11:44,040 INFO status has been updated to accepted\n",
      "2025-05-15 16:11:51,706 INFO status has been updated to successful\n"
     ]
    },
    {
     "data": {
      "application/vnd.jupyter.widget-view+json": {
       "model_id": "004a06b11de8409aaa5c43a4e6ebca9f",
       "version_major": 2,
       "version_minor": 0
      },
      "text/plain": [
       "48e19bffbc9f7d4a902dda0b716195f9.nc:   0%|          | 0.00/1.57M [00:00<?, ?B/s]"
      ]
     },
     "metadata": {},
     "output_type": "display_data"
    },
    {
     "name": "stdout",
     "output_type": "stream",
     "text": [
      "NorthSea-mean_wave_direction, 2023-2023\n",
      "NorthSea_mean_wave_direction_2023.nc\n"
     ]
    },
    {
     "name": "stderr",
     "output_type": "stream",
     "text": [
      "2025-05-15 16:11:53,440 INFO Request ID is df70b5f7-2fdd-444d-a5cb-2458e7234490\n",
      "2025-05-15 16:11:53,596 INFO status has been updated to accepted\n",
      "2025-05-15 16:12:02,109 INFO status has been updated to running\n",
      "2025-05-15 16:12:07,237 INFO status has been updated to successful\n"
     ]
    },
    {
     "data": {
      "application/vnd.jupyter.widget-view+json": {
       "model_id": "9e84510e6ed849008f7a4f46034321bc",
       "version_major": 2,
       "version_minor": 0
      },
      "text/plain": [
       "e6e0eee2276036b1fc1de697d744cbe9.nc:   0%|          | 0.00/294k [00:00<?, ?B/s]"
      ]
     },
     "metadata": {},
     "output_type": "display_data"
    },
    {
     "name": "stdout",
     "output_type": "stream",
     "text": [
      "NorthSea-wave_spectral_directional_width, 2023-2023\n",
      "NorthSea_wave_spectral_directional_width_2023.nc\n"
     ]
    },
    {
     "name": "stderr",
     "output_type": "stream",
     "text": [
      "2025-05-15 16:12:08,558 INFO Request ID is 38ba83ff-d2d4-409b-bb5d-7c942c1fee02\n",
      "2025-05-15 16:12:08,907 INFO status has been updated to accepted\n",
      "2025-05-15 16:12:17,524 INFO status has been updated to successful\n"
     ]
    },
    {
     "data": {
      "application/vnd.jupyter.widget-view+json": {
       "model_id": "a898767967164fbf9ef725392018d34a",
       "version_major": 2,
       "version_minor": 0
      },
      "text/plain": [
       "14160aacbf9f5b5a781ba720a621b426.nc:   0%|          | 0.00/335k [00:00<?, ?B/s]"
      ]
     },
     "metadata": {},
     "output_type": "display_data"
    },
    {
     "name": "stdout",
     "output_type": "stream",
     "text": [
      "NorthSea-significant_height_of_combined_wind_waves_and_swell, 2023-2023\n",
      "NorthSea_significant_height_of_combined_wind_waves_and_swell_2023.nc\n"
     ]
    },
    {
     "name": "stderr",
     "output_type": "stream",
     "text": [
      "2025-05-15 16:12:18,759 INFO Request ID is 4d3261a3-1f8c-4475-823b-5d2f76b1e139\n",
      "2025-05-15 16:12:18,811 INFO status has been updated to accepted\n",
      "2025-05-15 16:12:32,539 INFO status has been updated to successful\n"
     ]
    },
    {
     "data": {
      "application/vnd.jupyter.widget-view+json": {
       "model_id": "5a68da4f1f924d20b6ce57fbbafefe63",
       "version_major": 2,
       "version_minor": 0
      },
      "text/plain": [
       "2c279cb1b104c245d245a25eb86b00f4.nc:   0%|          | 0.00/365k [00:00<?, ?B/s]"
      ]
     },
     "metadata": {},
     "output_type": "display_data"
    },
    {
     "name": "stdout",
     "output_type": "stream",
     "text": [
      "NorthSea-mean_wave_period, 2023-2023\n",
      "NorthSea_mean_wave_period_2023.nc\n"
     ]
    },
    {
     "name": "stderr",
     "output_type": "stream",
     "text": [
      "2025-05-15 16:12:33,893 INFO Request ID is 0349fbdb-ac83-496c-b1c2-088b2d6f8aa0\n",
      "2025-05-15 16:12:33,974 INFO status has been updated to accepted\n",
      "2025-05-15 16:12:47,505 INFO status has been updated to running\n",
      "2025-05-15 16:12:55,189 INFO status has been updated to successful\n"
     ]
    },
    {
     "data": {
      "application/vnd.jupyter.widget-view+json": {
       "model_id": "fdeae8e613194a9397be618c86db680a",
       "version_major": 2,
       "version_minor": 0
      },
      "text/plain": [
       "fd088a84cc7afc74cce35460d34ab951.nc:   0%|          | 0.00/329k [00:00<?, ?B/s]"
      ]
     },
     "metadata": {},
     "output_type": "display_data"
    },
    {
     "name": "stdout",
     "output_type": "stream",
     "text": [
      "NorthSea-peak_wave_period, 2023-2023\n",
      "NorthSea_peak_wave_period_2023.nc\n"
     ]
    },
    {
     "name": "stderr",
     "output_type": "stream",
     "text": [
      "2025-05-15 16:12:56,390 INFO Request ID is 2c5b9681-84fd-4ea9-9956-1777882056d2\n",
      "2025-05-15 16:12:56,449 INFO status has been updated to accepted\n",
      "2025-05-15 16:13:04,909 INFO status has been updated to successful\n"
     ]
    },
    {
     "data": {
      "application/vnd.jupyter.widget-view+json": {
       "model_id": "8c19838cea2a4636b0e6fb0e1fd8e001",
       "version_major": 2,
       "version_minor": 0
      },
      "text/plain": [
       "e2d71522a2ac26772edf1b5fc94c7885.nc:   0%|          | 0.00/312k [00:00<?, ?B/s]"
      ]
     },
     "metadata": {},
     "output_type": "display_data"
    }
   ],
   "source": [
    "c = cdsapi.Client() # Make sure you installed the cdsapi package (pip install cdsapi) and obtained the key placed in C:\\Users\\User\\.cdsapirc\n",
    "catalogue = 'reanalysis-era5-single-levels' # or 'reanalysis-era5-pressure-levels'\n",
    "product = 'reanalysis'\n",
    "fmat = 'netcdf' # or 'grib' (grib is the default format, but netcdf is easier to work with in Python)\n",
    "\n",
    "#%% Download data\n",
    "for vv in variables:\n",
    "    # create directory for each variable\n",
    "    varpath = os.path.join(outpath,vv)\n",
    "    os.makedirs(varpath, exist_ok=True)\n",
    "    \n",
    "    # Create one NetCDF file for each variable and year\n",
    "    for yy in years:\n",
    "        print('%s-%s, %s-%4d'%(area_name,vv,yy,ye))\n",
    "        filename = '%s_%s_%s.nc'%(area_name,vv,yy)\n",
    "        print(filename)\n",
    "        data = c.retrieve(\n",
    "            catalogue,{\n",
    "                'product_type'  : product,\n",
    "                'variable'      : vv,\n",
    "                'year'          : yy,\n",
    "                'month'         : months,\n",
    "                'day'           : days,\n",
    "                'area'          : area, # North, West, South, East. Default: global\n",
    "                #'grid'          : [res, res], # Latitude/longitude grid: east-west (longitude) and north-south resolution (latitude). Default: 0.25 x 0.25\n",
    "                'time'          : hours,\n",
    "                'format'        : 'netcdf', # Supported format: grib and netcdf. Default: grib\n",
    "                'data_format'   : 'netcdf',\n",
    "                'download_format': 'unarchived'\n",
    "            }, os.path.join(varpath, filename))\n",
    "\n",
    "\n"
   ]
  },
  {
   "cell_type": "markdown",
   "id": "ff0a2252",
   "metadata": {},
   "source": [
    "# Move and combine from the download path to the final path"
   ]
  },
  {
   "cell_type": "code",
   "execution_count": 24,
   "id": "a5d8018c",
   "metadata": {},
   "outputs": [
    {
     "name": "stdout",
     "output_type": "stream",
     "text": [
      "Combined file saved to: C:\\Users\\User\\OneDrive\\Documents\\Python\\PYTHON_MSC_CE\\Year_2\\Python_Thesis\\cht_hurrywave\\examples\\DanielTest\\01_data\\ERA_5_data\\Pia\\Pia_era5_data.nc\n"
     ]
    }
   ],
   "source": [
    "# Top-level directory containing subdirectories with .nc files\n",
    "top_dir = outpath\n",
    "final_file = os.path.join(final_path, f'{name}_era5_data.nc')\n",
    "\n",
    "# Collect all .nc files from all subdirectories\n",
    "nc_files = []\n",
    "for root, dirs, files in os.walk(top_dir):\n",
    "    for file in files:\n",
    "        if file.endswith(\".nc\"):\n",
    "            nc_files.append(os.path.join(root, file))\n",
    "\n",
    "# Load and store datasets\n",
    "datasets = []\n",
    "for file_path in nc_files:\n",
    "    try:\n",
    "        ds = xr.open_dataset(file_path)\n",
    "        datasets.append(ds)\n",
    "    except Exception as e:\n",
    "        print(f\"Error loading {file_path}: {e}\")\n",
    "\n",
    "# Merge all datasets by variable name\n",
    "combined = xr.merge(datasets)\n",
    "\n",
    "# Save to NetCDF\n",
    "final_path = os.path.join(top_dir, final_file)\n",
    "combined.to_netcdf(final_path)\n",
    "\n",
    "print(f\"Combined file saved to: {final_path}\")"
   ]
  },
  {
   "cell_type": "code",
   "execution_count": null,
   "id": "0645ae2b",
   "metadata": {},
   "outputs": [],
   "source": []
  }
 ],
 "metadata": {
  "kernelspec": {
   "display_name": "Python 3",
   "language": "python",
   "name": "python3"
  },
  "language_info": {
   "codemirror_mode": {
    "name": "ipython",
    "version": 3
   },
   "file_extension": ".py",
   "mimetype": "text/x-python",
   "name": "python",
   "nbconvert_exporter": "python",
   "pygments_lexer": "ipython3",
   "version": "3.10.16"
  }
 },
 "nbformat": 4,
 "nbformat_minor": 5
}
