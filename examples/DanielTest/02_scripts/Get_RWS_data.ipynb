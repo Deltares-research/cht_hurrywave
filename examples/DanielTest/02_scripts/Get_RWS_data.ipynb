{
 "cells": [
  {
   "cell_type": "code",
   "execution_count": null,
   "id": "e7343998",
   "metadata": {},
   "outputs": [],
   "source": [
    "import ddlpy\n",
    "import datetime as dt\n",
    "import numpy as np\n",
    "import os\n",
    "import pandas as pd\n",
    "import matplotlib.pyplot as plt\n",
    "plt.close(\"all\")\n",
    "import os\n",
    "\n"
   ]
  },
  {
   "cell_type": "code",
   "execution_count": 2,
   "id": "fc0946cd",
   "metadata": {},
   "outputs": [],
   "source": [
    "name = 'Sinterklaas_NorthSea'\n",
    "start_date = dt.datetime(2013, 12, 1)  # Year, Month, Day\n",
    "end_date = dt.datetime(2013, 12, 8)  # Year, Month, Day"
   ]
  },
  {
   "cell_type": "code",
   "execution_count": 3,
   "id": "3d09303b",
   "metadata": {},
   "outputs": [
    {
     "name": "stdout",
     "output_type": "stream",
     "text": [
      "                                   Naam Grootheid.Code  \\\n",
      "Code                                                     \n",
      "NORTHCMRT               North Cormorant            Hm0   \n",
      "K13                           K13 Alpha           T1/3   \n",
      "D15                      Platform D15-A            Hm0   \n",
      "EURPFM                    Euro platform           T1/3   \n",
      "F16                      Platform F16-A           Hmax   \n",
      "F16                      Platform F16-A            Hm0   \n",
      "IJMDMNTSPS  IJmuiden munitiestortplaats           Tmax   \n",
      "NORTHCMRT               North Cormorant           S0BH   \n",
      "K13                           K13 Alpha            Hm0   \n",
      "EURPFM                    Euro platform           Tmax   \n",
      "EURPFM                    Euro platform           Hmax   \n",
      "Q1                  Platform Hoorn Q1-A           Tmax   \n",
      "Q1                  Platform Hoorn Q1-A           T1/3   \n",
      "Q1                  Platform Hoorn Q1-A            Hm0   \n",
      "IJMDMNTSPS  IJmuiden munitiestortplaats           Hmax   \n",
      "D15                      Platform D15-A           T1/3   \n",
      "EURPFM                    Euro platform           S0BH   \n",
      "F16                      Platform F16-A           Tmax   \n",
      "IJMDMNTSPS  IJmuiden munitiestortplaats            Hm0   \n",
      "NC1                     North Cormorant            Hm0   \n",
      "NORTHCMRT               North Cormorant           Tmax   \n",
      "D15                      Platform D15-A           Hmax   \n",
      "F16                      Platform F16-A           T1/3   \n",
      "IJMDMNTSPS  IJmuiden munitiestortplaats           T1/3   \n",
      "NORTHCMRT               North Cormorant            Th0   \n",
      "D15                      Platform D15-A           Tmax   \n",
      "Q1                  Platform Hoorn Q1-A            Th0   \n",
      "Q1                  Platform Hoorn Q1-A           S0BH   \n",
      "NORTHCMRT               North Cormorant           Hmax   \n",
      "EURPFM                    Euro platform            Th0   \n",
      "IJMDMNTSPS  IJmuiden munitiestortplaats            Th0   \n",
      "IJMDMNTSPS  IJmuiden munitiestortplaats           S0BH   \n",
      "EURPFM                    Euro platform            Hm0   \n",
      "Q1                  Platform Hoorn Q1-A           Hmax   \n",
      "NC1                     North Cormorant           T1/3   \n",
      "\n",
      "                                       Grootheid.Omschrijving  \n",
      "Code                                                           \n",
      "NORTHCMRT     Significante golfhoogte in het spectrale domein  \n",
      "K13         Gem. golfperiode langste 1/3 deel v.d. golven ...  \n",
      "D15           Significante golfhoogte in het spectrale domein  \n",
      "EURPFM      Gem. golfperiode langste 1/3 deel v.d. golven ...  \n",
      "F16                    Maximale golfhoogte in het tijdsdomein  \n",
      "F16           Significante golfhoogte in het spectrale domein  \n",
      "IJMDMNTSPS            Maximale golfperiode in het tijdsdomein  \n",
      "NORTHCMRT   Gemiddelde golfrichtingspreiding in het spectr...  \n",
      "K13           Significante golfhoogte in het spectrale domein  \n",
      "EURPFM                Maximale golfperiode in het tijdsdomein  \n",
      "EURPFM                 Maximale golfhoogte in het tijdsdomein  \n",
      "Q1                    Maximale golfperiode in het tijdsdomein  \n",
      "Q1          Gem. golfperiode langste 1/3 deel v.d. golven ...  \n",
      "Q1            Significante golfhoogte in het spectrale domein  \n",
      "IJMDMNTSPS             Maximale golfhoogte in het tijdsdomein  \n",
      "D15         Gem. golfperiode langste 1/3 deel v.d. golven ...  \n",
      "EURPFM      Gemiddelde golfrichtingspreiding in het spectr...  \n",
      "F16                   Maximale golfperiode in het tijdsdomein  \n",
      "IJMDMNTSPS    Significante golfhoogte in het spectrale domein  \n",
      "NC1           Significante golfhoogte in het spectrale domein  \n",
      "NORTHCMRT             Maximale golfperiode in het tijdsdomein  \n",
      "D15                    Maximale golfhoogte in het tijdsdomein  \n",
      "F16         Gem. golfperiode langste 1/3 deel v.d. golven ...  \n",
      "IJMDMNTSPS  Gem. golfperiode langste 1/3 deel v.d. golven ...  \n",
      "NORTHCMRT     Gemiddelde golfrichting in het spectrale domein  \n",
      "D15                   Maximale golfperiode in het tijdsdomein  \n",
      "Q1            Gemiddelde golfrichting in het spectrale domein  \n",
      "Q1          Gemiddelde golfrichtingspreiding in het spectr...  \n",
      "NORTHCMRT              Maximale golfhoogte in het tijdsdomein  \n",
      "EURPFM        Gemiddelde golfrichting in het spectrale domein  \n",
      "IJMDMNTSPS    Gemiddelde golfrichting in het spectrale domein  \n",
      "IJMDMNTSPS  Gemiddelde golfrichtingspreiding in het spectr...  \n",
      "EURPFM        Significante golfhoogte in het spectrale domein  \n",
      "Q1                     Maximale golfhoogte in het tijdsdomein  \n",
      "NC1         Gem. golfperiode langste 1/3 deel v.d. golven ...  \n"
     ]
    }
   ],
   "source": [
    "locations = ddlpy.locations()\n",
    "\n",
    "bool_grootheid = locations['Grootheid.Omschrijving'].str.contains('golf')\n",
    "targets = ['north cormorant', 'Platform F16-A', 'K13 Alpha', 'Platform Hoorn Q1-A','Ijmuiden munitiestortplaats', 'Euro platform', 'Platform D15-A']\n",
    "\n",
    "wave_data_locs = locations[bool_grootheid]\n",
    "\n",
    "selected = locations.loc[bool_grootheid]\n",
    "\n",
    "# print(selected[['Naam', 'Grootheid.Code', 'Grootheid.Omschrijving']])\n",
    "\n",
    "# get_locations_measuring_Hm0 = locations[locations['Grootheid.Code'].str.contains('Hm0')]\n",
    "# print(get_locations_measuring_Hm0[['Naam', 'Grootheid.Code', 'Grootheid.Omschrijving']])\n",
    "\n",
    "targets = ['north cormorant', 'Platform F16-A', 'K13 Alpha', 'Platform Hoorn Q1-A','Ijmuiden munitiestortplaats', 'Euro platform', 'Platform D15-A']\n",
    "# get_targets_hm0 = get_locations_measuring_Hm0[get_locations_measuring_Hm0['Naam'].str.lower().isin([name.lower() for name in targets])]\n",
    "\n",
    "wave_data_locs = wave_data_locs[wave_data_locs['Naam'].str.lower().isin([name.lower() for name in targets])]\n",
    "print(wave_data_locs[['Naam', 'Grootheid.Code', 'Grootheid.Omschrijving']])\n",
    "\n",
    "hm0_locations = wave_data_locs[wave_data_locs['Grootheid.Code'].str.contains('Hm0')]\n",
    "t13_locations = wave_data_locs[wave_data_locs['Grootheid.Code'].str.contains('T1/3')]\n",
    "tmax_locations = wave_data_locs[wave_data_locs['Grootheid.Code'].str.contains('Tmax')]\n",
    "\n",
    "\n"
   ]
  },
  {
   "cell_type": "code",
   "execution_count": 4,
   "id": "06b82a06",
   "metadata": {},
   "outputs": [],
   "source": [
    "def get_data(location, var_name, start_date, end_date, dir_output, dict_measurements,overwrite=True):\n",
    "    station_id = location.name\n",
    "    station_messageid = location[\"Locatie_MessageID\"]\n",
    "    filename = os.path.join(dir_output, f\"{station_id}-{station_messageid}.nc\")\n",
    "\n",
    "    if os.path.isfile(filename) and overwrite is False:\n",
    "        print(f'{station_id}: netcdf file already exists and overwrite=False, skipping')\n",
    "        return\n",
    "\n",
    "    measurements = ddlpy.measurements(location, start_date=start_date, end_date=end_date)\n",
    "\n",
    "    if measurements.empty:\n",
    "        print(f'{station_id}: no measurements found')\n",
    "        return\n",
    "\n",
    "    print(f'{station_id}: writing retrieved data to netcdf file')\n",
    "\n",
    "    simplified = ddlpy.simplify_dataframe(measurements)\n",
    "\n",
    "    station = location['Naam']\n",
    "    \n",
    "    dict_measurements[station][var_name] = simplified['Meetwaarde.Waarde_Numeriek']\n",
    "\n",
    "    print(f'{station}: {var_name} df length : {dict_measurements[station][var_name].shape}')\n"
   ]
  },
  {
   "cell_type": "code",
   "execution_count": 5,
   "id": "1ef28766",
   "metadata": {},
   "outputs": [],
   "source": [
    "main_path = r'C:\\Users\\User\\OneDrive\\Documents\\Python\\PYTHON_MSC_CE\\Year_2\\Python_Thesis\\cht_hurrywave\\examples\\DanielTest\\01_data\\Waterinfo_RWS'\n",
    "output_path = os.path.join(main_path, name)\n",
    "if not os.path.exists(output_path):\n",
    "    os.makedirs(output_path)\n",
    "\n",
    "def init_dict_measurements():\n",
    "    dict_measurements = {}\n",
    "    for station in wave_data_locs['Naam']:\n",
    "        dict_measurements[station] = {}\n",
    "    return dict_measurements\n",
    "\n",
    "dict_measurements = init_dict_measurements()"
   ]
  },
  {
   "cell_type": "code",
   "execution_count": 6,
   "id": "42dcb5e4",
   "metadata": {},
   "outputs": [
    {
     "name": "stderr",
     "output_type": "stream",
     "text": [
      "100%|██████████| 1/1 [00:00<00:00,  3.53it/s]\n"
     ]
    },
    {
     "name": "stdout",
     "output_type": "stream",
     "text": [
      "NORTHCMRT: writing retrieved data to netcdf file\n",
      "North Cormorant: hm0 df length : (774,)\n"
     ]
    },
    {
     "name": "stderr",
     "output_type": "stream",
     "text": [
      "100%|██████████| 1/1 [00:00<00:00,  2.32it/s]\n"
     ]
    },
    {
     "name": "stdout",
     "output_type": "stream",
     "text": [
      "D15: writing retrieved data to netcdf file\n",
      "Platform D15-A: hm0 df length : (1009,)\n"
     ]
    },
    {
     "name": "stderr",
     "output_type": "stream",
     "text": [
      "100%|██████████| 1/1 [00:00<00:00,  2.67it/s]\n"
     ]
    },
    {
     "name": "stdout",
     "output_type": "stream",
     "text": [
      "F16: writing retrieved data to netcdf file\n",
      "Platform F16-A: hm0 df length : (1009,)\n"
     ]
    },
    {
     "name": "stderr",
     "output_type": "stream",
     "text": [
      "100%|██████████| 1/1 [00:00<00:00,  1.93it/s]\n"
     ]
    },
    {
     "name": "stdout",
     "output_type": "stream",
     "text": [
      "K13: no measurements found\n"
     ]
    },
    {
     "name": "stderr",
     "output_type": "stream",
     "text": [
      "100%|██████████| 1/1 [00:00<00:00,  1.84it/s]\n"
     ]
    },
    {
     "name": "stdout",
     "output_type": "stream",
     "text": [
      "Q1: writing retrieved data to netcdf file\n",
      "Platform Hoorn Q1-A: hm0 df length : (2018,)\n"
     ]
    },
    {
     "name": "stderr",
     "output_type": "stream",
     "text": [
      "100%|██████████| 1/1 [00:00<00:00,  1.13it/s]\n"
     ]
    },
    {
     "name": "stdout",
     "output_type": "stream",
     "text": [
      "IJMDMNTSPS: writing retrieved data to netcdf file\n",
      "IJmuiden munitiestortplaats: hm0 df length : (1983,)\n"
     ]
    },
    {
     "name": "stderr",
     "output_type": "stream",
     "text": [
      "100%|██████████| 1/1 [00:00<00:00,  9.40it/s]\n"
     ]
    },
    {
     "name": "stdout",
     "output_type": "stream",
     "text": [
      "NC1: no measurements found\n"
     ]
    },
    {
     "name": "stderr",
     "output_type": "stream",
     "text": [
      "100%|██████████| 1/1 [00:00<00:00,  1.68it/s]\n"
     ]
    },
    {
     "name": "stdout",
     "output_type": "stream",
     "text": [
      "EURPFM: writing retrieved data to netcdf file\n",
      "Euro platform: hm0 df length : (2187,)\n"
     ]
    },
    {
     "name": "stderr",
     "output_type": "stream",
     "text": [
      "100%|██████████| 1/1 [00:00<00:00,  4.67it/s]\n"
     ]
    },
    {
     "name": "stdout",
     "output_type": "stream",
     "text": [
      "K13: no measurements found\n"
     ]
    },
    {
     "name": "stderr",
     "output_type": "stream",
     "text": [
      "100%|██████████| 1/1 [00:00<00:00,  1.70it/s]\n"
     ]
    },
    {
     "name": "stdout",
     "output_type": "stream",
     "text": [
      "EURPFM: writing retrieved data to netcdf file\n",
      "Euro platform: t13 df length : (1009,)\n"
     ]
    },
    {
     "name": "stderr",
     "output_type": "stream",
     "text": [
      "100%|██████████| 1/1 [00:00<00:00,  1.23it/s]\n"
     ]
    },
    {
     "name": "stdout",
     "output_type": "stream",
     "text": [
      "Q1: writing retrieved data to netcdf file\n",
      "Platform Hoorn Q1-A: t13 df length : (2018,)\n"
     ]
    },
    {
     "name": "stderr",
     "output_type": "stream",
     "text": [
      "100%|██████████| 1/1 [00:00<00:00,  2.19it/s]\n"
     ]
    },
    {
     "name": "stdout",
     "output_type": "stream",
     "text": [
      "D15: writing retrieved data to netcdf file\n",
      "Platform D15-A: t13 df length : (1009,)\n"
     ]
    },
    {
     "name": "stderr",
     "output_type": "stream",
     "text": [
      "100%|██████████| 1/1 [00:00<00:00,  1.65it/s]\n"
     ]
    },
    {
     "name": "stdout",
     "output_type": "stream",
     "text": [
      "F16: writing retrieved data to netcdf file\n",
      "Platform F16-A: t13 df length : (1009,)\n"
     ]
    },
    {
     "name": "stderr",
     "output_type": "stream",
     "text": [
      "100%|██████████| 1/1 [00:00<00:00,  1.63it/s]\n"
     ]
    },
    {
     "name": "stdout",
     "output_type": "stream",
     "text": [
      "IJMDMNTSPS: writing retrieved data to netcdf file\n",
      "IJmuiden munitiestortplaats: t13 df length : (1795,)\n"
     ]
    },
    {
     "name": "stderr",
     "output_type": "stream",
     "text": [
      "100%|██████████| 1/1 [00:00<00:00,  7.50it/s]\n"
     ]
    },
    {
     "name": "stdout",
     "output_type": "stream",
     "text": [
      "NC1: no measurements found\n"
     ]
    },
    {
     "name": "stderr",
     "output_type": "stream",
     "text": [
      "100%|██████████| 1/1 [00:00<00:00,  1.88it/s]\n"
     ]
    },
    {
     "name": "stdout",
     "output_type": "stream",
     "text": [
      "IJMDMNTSPS: writing retrieved data to netcdf file\n",
      "IJmuiden munitiestortplaats: tmax df length : (1841,)\n"
     ]
    },
    {
     "name": "stderr",
     "output_type": "stream",
     "text": [
      "100%|██████████| 1/1 [00:00<00:00,  1.23it/s]\n"
     ]
    },
    {
     "name": "stdout",
     "output_type": "stream",
     "text": [
      "EURPFM: writing retrieved data to netcdf file\n",
      "Euro platform: tmax df length : (2018,)\n"
     ]
    },
    {
     "name": "stderr",
     "output_type": "stream",
     "text": [
      "100%|██████████| 1/1 [00:00<00:00,  1.59it/s]\n"
     ]
    },
    {
     "name": "stdout",
     "output_type": "stream",
     "text": [
      "Q1: writing retrieved data to netcdf file\n",
      "Platform Hoorn Q1-A: tmax df length : (2018,)\n"
     ]
    },
    {
     "name": "stderr",
     "output_type": "stream",
     "text": [
      "100%|██████████| 1/1 [00:00<00:00,  3.01it/s]\n"
     ]
    },
    {
     "name": "stdout",
     "output_type": "stream",
     "text": [
      "F16: writing retrieved data to netcdf file\n",
      "Platform F16-A: tmax df length : (1009,)\n"
     ]
    },
    {
     "name": "stderr",
     "output_type": "stream",
     "text": [
      "100%|██████████| 1/1 [00:00<00:00,  2.86it/s]\n"
     ]
    },
    {
     "name": "stdout",
     "output_type": "stream",
     "text": [
      "NORTHCMRT: writing retrieved data to netcdf file\n",
      "North Cormorant: tmax df length : (774,)\n"
     ]
    },
    {
     "name": "stderr",
     "output_type": "stream",
     "text": [
      "100%|██████████| 1/1 [00:00<00:00,  1.55it/s]"
     ]
    },
    {
     "name": "stdout",
     "output_type": "stream",
     "text": [
      "D15: writing retrieved data to netcdf file\n",
      "Platform D15-A: tmax df length : (1009,)\n"
     ]
    },
    {
     "name": "stderr",
     "output_type": "stream",
     "text": [
      "\n"
     ]
    }
   ],
   "source": [
    "# Download and collect Hm0\n",
    "for _, location in hm0_locations.iterrows():\n",
    "    get_data(location, 'hm0' ,start_date, end_date,output_path,dict_measurements, overwrite=True)\n",
    "\n",
    "for _, location in t13_locations.iterrows():\n",
    "    get_data(location, 't13' ,start_date, end_date,output_path,dict_measurements, overwrite=True)\n",
    "\n",
    "for _, location in tmax_locations.iterrows():\n",
    "    get_data(location, 'tmax' ,start_date, end_date,output_path,dict_measurements, overwrite=True)"
   ]
  },
  {
   "cell_type": "code",
   "execution_count": 15,
   "id": "525056af",
   "metadata": {},
   "outputs": [
    {
     "name": "stdout",
     "output_type": "stream",
     "text": [
      "North Cormorant: No data for t13, filling with NaN.\n",
      "K13 Alpha: No data for hm0, filling with NaN.\n",
      "K13 Alpha: No data for t13, filling with NaN.\n",
      "K13 Alpha: No data for tmax, filling with NaN.\n"
     ]
    }
   ],
   "source": [
    "def write_to_csv(dict_measurements, outpath, station):\n",
    "    # Check which variables are missing or empty, and create NaN series for them\n",
    "    required_vars = ['hm0', 't13', 'tmax']\n",
    "    # Determine the length to use for NaNs (use the max length of available variables, or default to 1)\n",
    "    lengths = [len(dict_measurements[station][v]) for v in dict_measurements[station] if dict_measurements[station][v] is not None and hasattr(dict_measurements[station][v], '__len__')]\n",
    "    nan_length = max(lengths) if lengths else 1\n",
    "\n",
    "    # Prepare dataframes for each variable\n",
    "    dfs = {}\n",
    "    for var in required_vars:\n",
    "        if var in dict_measurements[station] and dict_measurements[station][var] is not None and len(dict_measurements[station][var]) > 0:\n",
    "            df = pd.DataFrame({\n",
    "                'time': dict_measurements[station][var].index,\n",
    "                var: dict_measurements[station][var]\n",
    "            })\n",
    "            df['time'] = pd.to_datetime(df['time'])\n",
    "            df.set_index('time', inplace=True)\n",
    "            df = df.loc[~df.index.duplicated(keep='first')]\n",
    "            dfs[var] = df\n",
    "        else:\n",
    "            print(f\"{station}: No data for {var}, filling with NaN.\")\n",
    "            # Try to get the index from any available variable, else use a range index\n",
    "            index = None\n",
    "            for v in dict_measurements[station]:\n",
    "                if dict_measurements[station][v] is not None and hasattr(dict_measurements[station][v], 'index'):\n",
    "                    index = dict_measurements[station][v].index\n",
    "                    break\n",
    "            if index is None:\n",
    "                index = pd.RangeIndex(nan_length)\n",
    "            df_nan = pd.DataFrame({var: [np.nan]*nan_length}, index=index)\n",
    "            df_nan.index.name = 'time'\n",
    "            dfs[var] = df_nan\n",
    "\n",
    "    # Determine the overall time range for reindexing\n",
    "    all_indices = [df.index for df in dfs.values() if len(df) > 0]\n",
    "    if not all_indices:\n",
    "        print(f\"{station}: No data available for any variable.\")\n",
    "        return\n",
    "    start_time = min(idx.min() for idx in all_indices)\n",
    "    end_time = max(idx.max() for idx in all_indices)\n",
    "    hourly_index = pd.date_range(start=start_time, end=end_time, freq='10min')\n",
    "\n",
    "    # Reindex and interpolate each variable\n",
    "    for var in required_vars:\n",
    "        dfs[var] = dfs[var].reindex(hourly_index).interpolate(method='time')\n",
    "\n",
    "    # Combine all variables into one dataframe\n",
    "    combined_df = pd.concat([dfs['hm0']['hm0'], dfs['t13']['t13'], dfs['tmax']['tmax']], axis=1)\n",
    "    combined_df.to_csv(f'{outpath}/{station}.csv', index=True)\n",
    "\n",
    "\n",
    "\n",
    "def write_to_csv_all(dict_measurements, outpath):\n",
    "    for station in dict_measurements.keys():\n",
    "        write_to_csv(dict_measurements, outpath, station)\n",
    "\n",
    "write_to_csv_all(dict_measurements, output_path)\n",
    "\n",
    "\n",
    "\n",
    "\n"
   ]
  },
  {
   "cell_type": "code",
   "execution_count": null,
   "id": "6fde88ed",
   "metadata": {},
   "outputs": [],
   "source": []
  }
 ],
 "metadata": {
  "kernelspec": {
   "display_name": "Python 3",
   "language": "python",
   "name": "python3"
  },
  "language_info": {
   "codemirror_mode": {
    "name": "ipython",
    "version": 3
   },
   "file_extension": ".py",
   "mimetype": "text/x-python",
   "name": "python",
   "nbconvert_exporter": "python",
   "pygments_lexer": "ipython3",
   "version": "3.10.16"
  }
 },
 "nbformat": 4,
 "nbformat_minor": 5
}
